{
 "cells": [
  {
   "cell_type": "code",
   "execution_count": 1,
   "metadata": {},
   "outputs": [
    {
     "name": "stderr",
     "output_type": "stream",
     "text": [
      "/Users/akhilesh/opt/anaconda3/lib/python3.8/site-packages/gensim/similarities/__init__.py:15: UserWarning: The gensim.similarities.levenshtein submodule is disabled, because the optional Levenshtein package <https://pypi.org/project/python-Levenshtein/> is unavailable. Install Levenhstein (e.g. `pip install python-Levenshtein`) to suppress this warning.\n",
      "  warnings.warn(msg)\n"
     ]
    }
   ],
   "source": [
    "from tools import *"
   ]
  },
  {
   "cell_type": "code",
   "execution_count": 2,
   "metadata": {},
   "outputs": [],
   "source": [
    "##### Don't need to run - one time task of reading the dump and creating a corpus\n",
    "rerun=True\n",
    "if rerun:\n",
    "    loc =\"/Users/akhilesh/Desktop/Presentations/\"\n",
    "    universal_doc=doc_creator(loc) \n",
    "    corpus= cleanit(list(universal_doc.values()))\n",
    "    vectorizer=vectorizer_creation(corpus)\n",
    "    slide_names=list(universal_doc.keys())\n",
    "    corp_vector=list(vector(corpus,vectorizer))\n",
    "    f = open('/Users/akhilesh/Desktop/Presentations/qER for pharma (tPA).pptx', \"rb\")\n",
    "    standard=Presentation(f)\n",
    "    pickle.dump(universal_doc, open( \"/Users/akhilesh/Desktop/universal_doc.pickle\", \"wb\" ))\n",
    "    pickle.dump(corpus, open( \"/Users/akhilesh/Desktop/corpus.pickle\", \"wb\" ))\n",
    "    \n",
    "    \n",
    "path11='/Users/akhilesh/Desktop/'#input('Please enter the directory of the folder with pickle files:')\n",
    "universal_doc = pickle.load( open( path11+\"universal_doc.pickle\", \"rb\" ))\n",
    "corpus=pickle.load( open( path11+\"corpus.pickle\", \"rb\" ))\n",
    "vectorizer=vectorizer_creation(corpus)\n",
    "slide_names=list(universal_doc.keys())\n",
    "corp_vector=list(vector(corpus,vectorizer))\n",
    "tf_vectorizer=tf_vectorizer_creation(corpus)\n",
    "corp_tf_vector=tf_vector(corpus,tf_vectorizer)\n",
    "\n",
    "def tf_notsameslide(slide,final_vector):\n",
    "    if len(final_vector)==0:\n",
    "        return True\n",
    "    sim=[]\n",
    "    for i in range(len(final_vector)):\n",
    "        sim.append(1-cosine(final_vector[i],slide))\n",
    "    #print(sim)\n",
    "    ind=sim.index(max(sim))\n",
    "    if max(sim)>0.95:\n",
    "        #print(\"in\",'\\n')\n",
    "        if np.count_nonzero(final_vector[ind])>=np.count_nonzero(slide):\n",
    "            return False\n",
    "        else:\n",
    "            del final_vectors[ind]\n",
    "            del final_result[ind]\n",
    "            return True\n",
    "    else:\n",
    "        return True\n"
   ]
  },
  {
   "cell_type": "code",
   "execution_count": 3,
   "metadata": {},
   "outputs": [
    {
     "name": "stdout",
     "output_type": "stream",
     "text": [
      "Please enter the keywords : world\n",
      "Qure intro Qualcomm v2.pptx Slide: 10\n",
      "qER Intro v2.1.pptx Slide: 27\n",
      "qXR AZ Portfolio v2.pptx Slide: 10\n",
      "qXR AZ Portfolio v2.pptx Slide: 16\n",
      "qXR AZ Portfolio v2.pptx Slide: 21\n",
      "qQuant Intro.pptx Slide: 7\n",
      "qXR COVID Technical.pptx Slide: 18\n",
      "AZ_LatAm_12th Feb.pptx Slide: 5\n",
      "search_result1.pptx Slide: 9\n",
      "search_result1.pptx Slide: 10\n",
      "search_result1.pptx Slide: 11\n",
      "Generating PPT........."
     ]
    },
    {
     "ename": "KeyError",
     "evalue": "'rId30'",
     "output_type": "error",
     "traceback": [
      "\u001b[0;31m---------------------------------------------------------------------------\u001b[0m",
      "\u001b[0;31mKeyError\u001b[0m                                  Traceback (most recent call last)",
      "\u001b[0;32m<timed exec>\u001b[0m in \u001b[0;36m<module>\u001b[0;34m\u001b[0m\n",
      "\u001b[0;32m~/Desktop/SIR/tools.py\u001b[0m in \u001b[0;36mcopy_slide_from_external_prs\u001b[0;34m(src, idx, newPrs1, newPrs2)\u001b[0m\n\u001b[1;32m    111\u001b[0m                 \u001b[0;32mif\u001b[0m \u001b[0;34m'Picture'\u001b[0m \u001b[0;32min\u001b[0m \u001b[0ms\u001b[0m\u001b[0;34m.\u001b[0m\u001b[0mname\u001b[0m\u001b[0;34m:\u001b[0m\u001b[0;34m\u001b[0m\u001b[0;34m\u001b[0m\u001b[0m\n\u001b[1;32m    112\u001b[0m                     \u001b[0;32mwith\u001b[0m \u001b[0mopen\u001b[0m\u001b[0;34m(\u001b[0m\u001b[0ms\u001b[0m\u001b[0;34m.\u001b[0m\u001b[0mname\u001b[0m\u001b[0;34m+\u001b[0m\u001b[0;34m'.jpg'\u001b[0m\u001b[0;34m,\u001b[0m \u001b[0;34m'wb'\u001b[0m\u001b[0;34m)\u001b[0m \u001b[0;32mas\u001b[0m \u001b[0mf\u001b[0m\u001b[0;34m:\u001b[0m\u001b[0;34m\u001b[0m\u001b[0;34m\u001b[0m\u001b[0m\n\u001b[0;32m--> 113\u001b[0;31m                         \u001b[0mf\u001b[0m\u001b[0;34m.\u001b[0m\u001b[0mwrite\u001b[0m\u001b[0;34m(\u001b[0m\u001b[0ms\u001b[0m\u001b[0;34m.\u001b[0m\u001b[0mimage\u001b[0m\u001b[0;34m.\u001b[0m\u001b[0mblob\u001b[0m\u001b[0;34m)\u001b[0m\u001b[0;34m\u001b[0m\u001b[0;34m\u001b[0m\u001b[0m\n\u001b[0m\u001b[1;32m    114\u001b[0m                         \u001b[0mcurr_slide\u001b[0m\u001b[0;34m.\u001b[0m\u001b[0mshapes\u001b[0m\u001b[0;34m.\u001b[0m\u001b[0madd_picture\u001b[0m\u001b[0;34m(\u001b[0m\u001b[0ms\u001b[0m\u001b[0;34m.\u001b[0m\u001b[0mname\u001b[0m\u001b[0;34m+\u001b[0m\u001b[0;34m'.jpg'\u001b[0m\u001b[0;34m,\u001b[0m\u001b[0ms\u001b[0m\u001b[0;34m.\u001b[0m\u001b[0mleft\u001b[0m\u001b[0;34m,\u001b[0m \u001b[0ms\u001b[0m\u001b[0;34m.\u001b[0m\u001b[0mtop\u001b[0m\u001b[0;34m,\u001b[0m \u001b[0ms\u001b[0m\u001b[0;34m.\u001b[0m\u001b[0mwidth\u001b[0m\u001b[0;34m,\u001b[0m \u001b[0ms\u001b[0m\u001b[0;34m.\u001b[0m\u001b[0mheight\u001b[0m\u001b[0;34m)\u001b[0m\u001b[0;34m\u001b[0m\u001b[0;34m\u001b[0m\u001b[0m\n\u001b[1;32m    115\u001b[0m                         \u001b[0mos\u001b[0m\u001b[0;34m.\u001b[0m\u001b[0mremove\u001b[0m\u001b[0;34m(\u001b[0m\u001b[0ms\u001b[0m\u001b[0;34m.\u001b[0m\u001b[0mname\u001b[0m\u001b[0;34m+\u001b[0m\u001b[0;34m'.jpg'\u001b[0m\u001b[0;34m)\u001b[0m\u001b[0;34m\u001b[0m\u001b[0;34m\u001b[0m\u001b[0m\n",
      "\u001b[0;32m~/opt/anaconda3/lib/python3.8/site-packages/pptx/shapes/picture.py\u001b[0m in \u001b[0;36mimage\u001b[0;34m(self)\u001b[0m\n\u001b[1;32m    193\u001b[0m         \u001b[0;32mif\u001b[0m \u001b[0mrId\u001b[0m \u001b[0;32mis\u001b[0m \u001b[0;32mNone\u001b[0m\u001b[0;34m:\u001b[0m\u001b[0;34m\u001b[0m\u001b[0;34m\u001b[0m\u001b[0m\n\u001b[1;32m    194\u001b[0m             \u001b[0;32mraise\u001b[0m \u001b[0mValueError\u001b[0m\u001b[0;34m(\u001b[0m\u001b[0;34m\"no embedded image\"\u001b[0m\u001b[0;34m)\u001b[0m\u001b[0;34m\u001b[0m\u001b[0;34m\u001b[0m\u001b[0m\n\u001b[0;32m--> 195\u001b[0;31m         \u001b[0;32mreturn\u001b[0m \u001b[0mslide_part\u001b[0m\u001b[0;34m.\u001b[0m\u001b[0mget_image\u001b[0m\u001b[0;34m(\u001b[0m\u001b[0mrId\u001b[0m\u001b[0;34m)\u001b[0m\u001b[0;34m\u001b[0m\u001b[0;34m\u001b[0m\u001b[0m\n\u001b[0m\u001b[1;32m    196\u001b[0m \u001b[0;34m\u001b[0m\u001b[0m\n\u001b[1;32m    197\u001b[0m     \u001b[0;34m@\u001b[0m\u001b[0mproperty\u001b[0m\u001b[0;34m\u001b[0m\u001b[0;34m\u001b[0m\u001b[0m\n",
      "\u001b[0;32m~/opt/anaconda3/lib/python3.8/site-packages/pptx/parts/slide.py\u001b[0m in \u001b[0;36mget_image\u001b[0;34m(self, rId)\u001b[0m\n\u001b[1;32m     29\u001b[0m         \u001b[0mwould\u001b[0m \u001b[0mgenerally\u001b[0m \u001b[0mindicate\u001b[0m \u001b[0ma\u001b[0m \u001b[0mcorrupted\u001b[0m \u001b[0;34m.\u001b[0m\u001b[0mpptx\u001b[0m \u001b[0mfile\u001b[0m\u001b[0;34m.\u001b[0m\u001b[0;34m\u001b[0m\u001b[0;34m\u001b[0m\u001b[0m\n\u001b[1;32m     30\u001b[0m         \"\"\"\n\u001b[0;32m---> 31\u001b[0;31m         \u001b[0;32mreturn\u001b[0m \u001b[0mself\u001b[0m\u001b[0;34m.\u001b[0m\u001b[0mrelated_parts\u001b[0m\u001b[0;34m[\u001b[0m\u001b[0mrId\u001b[0m\u001b[0;34m]\u001b[0m\u001b[0;34m.\u001b[0m\u001b[0mimage\u001b[0m\u001b[0;34m\u001b[0m\u001b[0;34m\u001b[0m\u001b[0m\n\u001b[0m\u001b[1;32m     32\u001b[0m \u001b[0;34m\u001b[0m\u001b[0m\n\u001b[1;32m     33\u001b[0m     \u001b[0;32mdef\u001b[0m \u001b[0mget_or_add_image_part\u001b[0m\u001b[0;34m(\u001b[0m\u001b[0mself\u001b[0m\u001b[0;34m,\u001b[0m \u001b[0mimage_file\u001b[0m\u001b[0;34m)\u001b[0m\u001b[0;34m:\u001b[0m\u001b[0;34m\u001b[0m\u001b[0;34m\u001b[0m\u001b[0m\n",
      "\u001b[0;31mKeyError\u001b[0m: 'rId30'"
     ]
    }
   ],
   "source": [
    "%%time\n",
    "#keyword matching to the dump of slides - returns list of ppts and the slides numbers with hits\n",
    "key=input(\"Please enter the keywords : \")\n",
    "final_result=[]\n",
    "final_vectors=[]\n",
    "key_vector=list(vector(cleanit([key])*len(corpus),vectorizer))\n",
    "result=np.einsum('ij, ij->i', key_vector, corp_vector)#np.multiply(key_vector, corp_vector).sum(1)\n",
    "similarity=result/sum(key_vector[0])\n",
    "for i in range(len(result)):\n",
    "    if similarity[i]>=0.75:\n",
    "        #print(i)\n",
    "        #print(len(final_vectors))\n",
    "        if tf_notsameslide(corp_tf_vector[i],final_vectors):\n",
    "            final_result.append(slide_names[i])\n",
    "            final_vectors.append(corp_tf_vector[i])\n",
    "print('\\n'.join(final_result))\n",
    "#creates ppts and saves them to a location provided by the user\n",
    "from pptx import Presentation\n",
    "source_dir='/Users/akhilesh/Desktop/Presentations/'\n",
    "target_dir=source_dir#input(\"Please enter the directory where the ppt needs to be saved : \")\n",
    "searchresult1=Presentation()\n",
    "searchresult2=Presentation()\n",
    "print('Generating PPT',end='')\n",
    "for i in range(len(final_result)):\n",
    "    source=source_dir+' '.join(final_result[i].split()[:-2])\n",
    "    f = open(source, \"rb\")\n",
    "    prs=Presentation(f)\n",
    "    slide=final_result[i].split()[-1]\n",
    "    copy_slide_from_external_prs(prs,int(slide), searchresult1,searchresult2)\n",
    "    print('.',end='')\n",
    "searchresult1.save(target_dir+'search_result1.pptx')\n",
    "if len(searchresult2.slides)>0:\n",
    "    searchresult2.save(target_dir+'search_result2.pptx')"
   ]
  },
  {
   "cell_type": "code",
   "execution_count": null,
   "metadata": {},
   "outputs": [],
   "source": [
    "def get_slide(query):\n",
    "    def tf_notsameslide(slide,final_vector):\n",
    "        if len(final_vector)==0:\n",
    "            return True\n",
    "        sim=[]\n",
    "        for i in range(len(final_vector)):\n",
    "            sim.append(1-cosine(final_vector[i],slide))\n",
    "        #print(sim)\n",
    "        ind=sim.index(max(sim))\n",
    "        if max(sim)>0.95:\n",
    "            #print(\"in\",'\\n')\n",
    "            if np.count_nonzero(final_vector[ind])>=np.count_nonzero(slide):\n",
    "                return False\n",
    "            else:\n",
    "                del final_vectors[ind]\n",
    "                del final_result[ind]\n",
    "                return True\n",
    "        else:\n",
    "            return True\n",
    "    key=query\n",
    "    final_result=[]\n",
    "    final_vectors=[]\n",
    "    key_vector=list(vector(cleanit([key])*len(corpus),vectorizer))\n",
    "    result=np.einsum('ij, ij->i', key_vector, corp_vector)#np.multiply(key_vector, corp_vector).sum(1)\n",
    "    similarity=result/sum(key_vector[0])\n",
    "    for i in range(len(result)):\n",
    "        if similarity[i]>=0.75:\n",
    "            #print(i)\n",
    "            #print(len(final_vectors))\n",
    "            if tf_notsameslide(corp_tf_vector[i],final_vectors):\n",
    "                final_result.append(slide_names[i])\n",
    "                final_vectors.append(corp_tf_vector[i])\n",
    "    print('\\n'.join(final_result))\n",
    "    #creates ppts and saves them to a location provided by the user\n",
    "    from pptx import Presentation\n",
    "    source_dir='/Users/akhilesh/Desktop/Presentations/'\n",
    "    target_dir=source_dir#input(\"Please enter the directory where the ppt needs to be saved : \")\n",
    "    searchresult1=Presentation()\n",
    "    searchresult2=Presentation()\n",
    "    print('Generating PPT',end='')\n",
    "    for i in range(len(final_result)):\n",
    "        source=source_dir+' '.join(final_result[i].split()[:-2])\n",
    "        f = open(source, \"rb\")\n",
    "        prs=Presentation(f)\n",
    "        slide=final_result[i].split()[-1]\n",
    "        copy_slide_from_external_prs(prs,int(slide), searchresult1,searchresult2)\n",
    "        print('.',end='')\n",
    "    searchresult1.save(target_dir+'search_result1.pptx')\n",
    "    if len(searchresult2.slides)>0:\n",
    "        searchresult2.save(target_dir+'search_result2.pptx')\n",
    "    return('Your PPTs are saved at '+target_dir)"
   ]
  },
  {
   "cell_type": "code",
   "execution_count": null,
   "metadata": {},
   "outputs": [],
   "source": [
    "get_slide('qer validation')"
   ]
  },
  {
   "cell_type": "code",
   "execution_count": null,
   "metadata": {},
   "outputs": [],
   "source": [
    "from flask import Flask\n",
    "from flask_restplus import Api, Resource, reqparse\n",
    "from werkzeug.utils import cached_property\n",
    "app = Flask(__name__)\n",
    "api = Api(app)\n",
    "parser = reqparse.RequestParser()\n",
    "parser.add_argument('keywords', help='Specify the keywords:')\n",
    "@api.route('/qppt/')\n",
    "class slide_finder(Resource):\n",
    "    @api.doc(parser=parser)\n",
    "    def get(self):        \n",
    "        args = parser.parse_args()\n",
    "        keywords = args['keywords']\n",
    "        output=get_slide(keywords)\n",
    "        return output\n",
    "    \n",
    "if __name__ == '__main__':\n",
    "    app.run()"
   ]
  },
  {
   "cell_type": "code",
   "execution_count": null,
   "metadata": {},
   "outputs": [],
   "source": []
  }
 ],
 "metadata": {
  "kernelspec": {
   "display_name": "Python 3",
   "language": "python",
   "name": "python3"
  },
  "language_info": {
   "codemirror_mode": {
    "name": "ipython",
    "version": 3
   },
   "file_extension": ".py",
   "mimetype": "text/x-python",
   "name": "python",
   "nbconvert_exporter": "python",
   "pygments_lexer": "ipython3",
   "version": "3.8.5"
  }
 },
 "nbformat": 4,
 "nbformat_minor": 4
}
